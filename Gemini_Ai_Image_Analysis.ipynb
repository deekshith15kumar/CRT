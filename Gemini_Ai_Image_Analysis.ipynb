{
  "nbformat": 4,
  "nbformat_minor": 0,
  "metadata": {
    "colab": {
      "provenance": []
    },
    "kernelspec": {
      "name": "python3",
      "display_name": "Python 3"
    },
    "language_info": {
      "name": "python"
    }
  },
  "cells": [
    {
      "cell_type": "code",
      "execution_count": 8,
      "metadata": {
        "id": "i5dL1G9ZXps5"
      },
      "outputs": [],
      "source": [
        "import google.generativeai as genai\n",
        "from google.colab import userdata\n",
        "\n",
        "GOOGLE_API_KEY=userdata.get('GOOGLE_API_KEY')\n",
        "genai.configure(api_key=GOOGLE_API_KEY)"
      ]
    },
    {
      "cell_type": "code",
      "source": [
        "from google import genai\n",
        "from google.genai import types\n",
        "client=genai.Client(api_key=GOOGLE_API_KEY)"
      ],
      "metadata": {
        "id": "YTefQuttXzes"
      },
      "execution_count": 9,
      "outputs": []
    },
    {
      "cell_type": "code",
      "source": [
        "import pathlib\n",
        "import textwrap\n",
        "\n",
        "from IPython.display import display, Markdown\n",
        "\n",
        "def to_markdown(text):\n",
        "    text = text.replace('*', ' - ')\n",
        "    return Markdown(textwrap.indent(text, '> ', predicate=lambda _: True))"
      ],
      "metadata": {
        "id": "Ud3HkKkHYi16"
      },
      "execution_count": 10,
      "outputs": []
    },
    {
      "cell_type": "code",
      "source": [
        "import PIL.Image\n",
        "img=PIL.Image.open('image1.jpg')\n",
        "img\n",
        "model = genai.GenerativeModel('gemini-1.5-flash')\n",
        "response=model.generate_content([\"write a short , engaging blog post based on this picture . it should include a description of the meal in the photo and talk about my journey meal prepping.\", img], stream=True)\n",
        "response.resolve()"
      ],
      "metadata": {
        "id": "4TY2IPZJZCUL"
      },
      "execution_count": 19,
      "outputs": []
    },
    {
      "cell_type": "code",
      "source": [
        "import PIL.Image\n",
        "import google.generativeai as genai # Import the correct module using its original name\n",
        "\n",
        "img = PIL.Image.open('/content/image1.jpg')\n",
        "img\n",
        "\n",
        "# Use google.generativeai, avoiding the variable name collision\n",
        "model = genai.GenerativeModel('gemini-1.5-flash')\n",
        "response = model.generate_content([\"Write a short, engaging post based on this picture. It should include a description of the photo and talk about picture.\", img],stream=True)\n",
        "response.resolve()"
      ],
      "metadata": {
        "id": "Z8LKDO8ha_UG"
      },
      "execution_count": 16,
      "outputs": []
    },
    {
      "cell_type": "code",
      "source": [
        "to_markdown(response.text)"
      ],
      "metadata": {
        "colab": {
          "base_uri": "https://localhost:8080/",
          "height": 389
        },
        "id": "-s3xsunKbvGW",
        "outputId": "54934777-0adb-4bab-815c-64bcefd9d067"
      },
      "execution_count": 18,
      "outputs": [
        {
          "output_type": "execute_result",
          "data": {
            "text/plain": [
              "<IPython.core.display.Markdown object>"
            ],
            "text/markdown": "> Here's a short, engaging social media post based on the image:\n> \n>  -  - Option 1 (Focus on meal prep): -  - \n> \n> > Lunch goals! ✨  Two perfectly portioned containers of deliciousness.  Chicken and broccoli stir-fry over fluffy rice – the ultimate healthy and easy meal prep!  What's your go-to lunch recipe? #mealprep #healthylifestyle #lunchideas #chickenstirfry #easyrecipes\n> \n> \n>  -  - Option 2 (Focus on the food itself): -  - \n> \n> > 😍  This chicken and broccoli stir-fry with a side of rice is pure comfort food!  The vibrant colors are almost too pretty to eat... almost. 😋 #foodphotography #instafood #healthyfood #stirfry #chickendinner\n> \n> \n>  -  - Option 3 (A bit more playful): -  - \n> \n> > Double the yum!  Two containers of this amazing chicken, broccoli, and rice masterpiece are ready to conquer my week.  Anyone else a master of the meal-prep game? 🙋‍♀️  #mealprepsunday #lunchboxideas #healthymeals #foodie #delicious\n> \n> \n>  -  - Option 4 (Short & sweet): -  - \n> \n> > Healthy and delicious meal prep! 😋 #healthyfood #mealprep #lunch\n> \n> \n> Remember to include the image when posting!  Choose the option that best suits your style and target audience.\n"
          },
          "metadata": {},
          "execution_count": 18
        }
      ]
    },
    {
      "cell_type": "code",
      "source": [
        "import PIL.Image\n",
        "img=PIL.Image.open('AIML.jpg.jpg')\n",
        "img\n",
        "model = genai.GenerativeModel('gemini-1.5-flash')\n",
        "response=model.generate_content([\"write a short , engaging blog post based on this picture . it should include a description in the photo .\", img], stream=True)\n",
        "response.resolve()"
      ],
      "metadata": {
        "id": "sWV0h2K1chk9"
      },
      "execution_count": 23,
      "outputs": []
    },
    {
      "cell_type": "code",
      "source": [
        "to_markdown(response.text)"
      ],
      "metadata": {
        "colab": {
          "base_uri": "https://localhost:8080/",
          "height": 412
        },
        "id": "nIELXN3uc52N",
        "outputId": "e98bb504-0a77-4c5a-ba9f-ad84b2e15c56"
      },
      "execution_count": 24,
      "outputs": [
        {
          "output_type": "execute_result",
          "data": {
            "text/plain": [
              "<IPython.core.display.Markdown object>"
            ],
            "text/markdown": "> ##  The Secret Sauce of a Killer Website: It's More Than Just Looks!\n> \n> Ever wondered what makes a website truly  - great - ?  It's not just about a pretty picture; it's about a well-orchestrated blend of elements working together seamlessly.  Take a look at this diagram:\n> \n> [Insert image here]\n> \n> This visual perfectly illustrates the key ingredients for effective online branding through your website.  At the center, we have the \"Website,\" the heart of your online presence, working towards \"Effective Online Branding.\"  But what are the crucial elements surrounding it?\n> \n>  -   -  - Functionality: -  -  Does your site work flawlessly?  Is it easy to use and navigate?\n> \n>  -   -  - Usability: -  -   Is the user experience intuitive and enjoyable? Can visitors find what they need easily?\n> \n>  -   -  - Navigation: -  -  Is your website's structure clear and logical? Can users effortlessly move between pages?\n> \n>  -   -  - Content: -  -  Is your content engaging, informative, and relevant to your target audience?  Does it clearly communicate your brand message?\n> \n>  -   -  - Visual Design: -  -  Does the aesthetic appeal to your target audience?  Is it consistent with your brand identity?\n> \n>  -   -  - Interactive Features: -  -  Do you leverage interactive elements to enhance user engagement, such as forms, videos, or interactive maps?\n> \n> Each of these elements plays a vital role. A stunning design is useless without good functionality, and compelling content falls flat without easy navigation.  The key is balance – creating a website that's not just visually appealing, but also user-friendly, functional, and delivers on its promise.  So, before launching your next website, ensure you've got all these elements working in harmony.  Your brand's success depends on it!\n"
          },
          "metadata": {},
          "execution_count": 24
        }
      ]
    },
    {
      "cell_type": "code",
      "source": [
        "import PIL.Image\n",
        "img=PIL.Image.open('/content/adiyogi-beautiful-night-hd-laptop-wallpaper-1080p.jpg')\n",
        "img\n",
        "model = genai.GenerativeModel('gemini-1.5-flash')\n",
        "response=model.generate_content([\"write a short , engaging blog post based on this picture . it should include a description in the photo .\", img], stream=True)\n",
        "response.resolve()"
      ],
      "metadata": {
        "id": "XRCLQZ7_dMnm"
      },
      "execution_count": 32,
      "outputs": []
    },
    {
      "cell_type": "code",
      "source": [
        "to_markdown(response.text)"
      ],
      "metadata": {
        "colab": {
          "base_uri": "https://localhost:8080/",
          "height": 303
        },
        "id": "R61w5j_6dgib",
        "outputId": "395e8017-414d-4fc7-a315-45966f7f2ed9"
      },
      "execution_count": 27,
      "outputs": [
        {
          "output_type": "execute_result",
          "data": {
            "text/plain": [
              "<IPython.core.display.Markdown object>"
            ],
            "text/markdown": "> Here's a short, engaging blog post based on the image:\n> \n> ## Beneath the Cosmic Gaze: Finding Peace in Shiva's Serenity\n> \n> The image above is breathtaking. A majestic statue of Lord Shiva, eyes gently closed, gazes serenely upward under a vast, star-studded night sky.  A brilliant full moon hangs in the heavens, casting an ethereal glow upon the dark blue stone of the sculpture.  The crescent moon adorns Shiva's forehead, a subtle yet powerful reminder of his cosmic connection.\n> \n> This isn't just a picture; it's a meditation. The stillness of Shiva's pose, the calmness of the night, the infinite expanse of the universe above—all combine to create a powerful sense of peace and tranquility. It invites us to pause, breathe, and connect with something larger than ourselves.\n> \n> In the Hindu tradition, Shiva represents the ultimate reality, the divine beyond all understanding.  This image captures the essence of his serene power, his quiet contemplation of the universe.  It's a reminder that even amidst the chaos and noise of our daily lives, there is always a place to find stillness, a space to connect with our inner selves and the boundless energy of the cosmos.\n> \n> Take a moment to let this image wash over you. Let Shiva's serenity inspire your own journey towards inner peace.  What feelings does this image evoke in you? Share your thoughts in the comments below.\n"
          },
          "metadata": {},
          "execution_count": 27
        }
      ]
    },
    {
      "cell_type": "code",
      "source": [
        "response=model.generate_content([\"generate an accurate captiion for this image.\",img])\n",
        "print(response.text)"
      ],
      "metadata": {
        "colab": {
          "base_uri": "https://localhost:8080/",
          "height": 399
        },
        "id": "msw0z0xmd_kD",
        "outputId": "099803a3-6a78-4cc0-c6cb-9acb6f4169b5"
      },
      "execution_count": 29,
      "outputs": [
        {
          "output_type": "stream",
          "name": "stdout",
          "text": [
            "Here are a few caption options for the image of Lord Shiva against a night sky:\n",
            "\n",
            "**Option 1 (Simple & Reverent):**\n",
            "\n",
            "> Lord Shiva under the night sky.  A serene depiction of divine peace.\n",
            "\n",
            "**Option 2 (More Descriptive):**\n",
            "\n",
            "> A majestic image of Lord Shiva, bathed in the moonlight, amidst a starry expanse.  A visual representation of cosmic serenity.\n",
            "\n",
            "**Option 3 (Poetic):**\n",
            "\n",
            "> Where the stars whisper secrets and the moon sings softly, Lord Shiva finds his eternal solace.\n",
            "\n",
            "\n",
            "**Option 4 (Adding context, if applicable):**\n",
            "\n",
            "> A digital artwork depicting Lord Shiva, inspired by [mention the source of inspiration, if any, like a particular statue or mythology].\n",
            "\n",
            "\n",
            "Choose the caption that best suits your intended use and audience.\n",
            "\n"
          ]
        }
      ]
    },
    {
      "cell_type": "code",
      "source": [
        "from PIL import Image\n",
        "image_path='/content/adiyogi-beautiful-night-hd-laptop-wallpaper-1080p.jpg'\n",
        "image=Image.open(image_path)\n",
        "response=model.generate_content([\"Describe this image in detail\", image])\n",
        "print(response.text)"
      ],
      "metadata": {
        "colab": {
          "base_uri": "https://localhost:8080/",
          "height": 332
        },
        "id": "ULdIdi4JfmL-",
        "outputId": "08077eca-7e73-4651-a4cf-081aef552327"
      },
      "execution_count": 35,
      "outputs": [
        {
          "output_type": "stream",
          "name": "stdout",
          "text": [
            "Here's a description of the image:\n",
            "\n",
            "The image is a stylized depiction of Lord Shiva, a Hindu deity, set against a dramatic night sky. \n",
            "\n",
            "\n",
            "Here's a breakdown of the elements:\n",
            "\n",
            "* **Shiva:** A large, dark-blue statue of Shiva dominates the image. His eyes are closed, and he has a serene expression. He's adorned with a crescent moon above his forehead and what appears to be a small, light-colored bindi (a mark on the forehead). His long hair flows down, and he's wearing earrings. The statue's coloring and texture give it a somewhat stone-like appearance.\n",
            "\n",
            "* **Background:** The background is a deep, rich purple-blue night sky teeming with stars.  A large, bright white moon sits prominently near the top left. The overall effect is one of cosmic vastness and mystery.\n",
            "\n",
            "* **Lighting and Color:** The image uses a dark and moody palette, with the deep blues and purples of the night sky contrasting with the lighter, brighter moon. The statue is similarly colored, with the blue tones enhancing its mystical quality. The lighting emphasizes the statue's form and expression.\n",
            "\n",
            "* **Watermark:** In the bottom right corner, there's a watermark with a stylized \"G\" logo and \"GHANTEE.COM\" indicating the image source.\n",
            "\n",
            "The overall impression is one of spirituality, serenity, and connection with the divine. The composition is deliberate, with the placement of Shiva in the center and the moon as a significant counterpoint. The style suggests a digital creation, possibly manipulated for artistic effect.\n",
            "\n"
          ]
        }
      ]
    },
    {
      "cell_type": "code",
      "source": [
        "response=model.generate_content([\"what emotions can you detect from the image\", image])\n",
        "print(response.text)"
      ],
      "metadata": {
        "colab": {
          "base_uri": "https://localhost:8080/",
          "height": 72
        },
        "id": "UJy0hnlpgNbc",
        "outputId": "c793fdb8-b334-42ce-fa95-480f5a1eec15"
      },
      "execution_count": 36,
      "outputs": [
        {
          "output_type": "stream",
          "name": "stdout",
          "text": [
            "The image evokes a feeling of serenity, peace, and contemplation.  The closed eyes of the statue suggest inner peace and perhaps a state of meditation or deep thought.  The nighttime setting with the moon adds to the feeling of quietude and mystery.  The overall color palette contributes to the calmness.\n",
            "\n"
          ]
        }
      ]
    },
    {
      "cell_type": "code",
      "source": [],
      "metadata": {
        "id": "TxG-euzGhe1O"
      },
      "execution_count": null,
      "outputs": []
    }
  ]
}