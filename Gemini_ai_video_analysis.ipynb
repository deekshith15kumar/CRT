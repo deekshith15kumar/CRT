{
  "nbformat": 4,
  "nbformat_minor": 0,
  "metadata": {
    "colab": {
      "provenance": []
    },
    "kernelspec": {
      "name": "python3",
      "display_name": "Python 3"
    },
    "language_info": {
      "name": "python"
    }
  },
  "cells": [
    {
      "cell_type": "code",
      "execution_count": 2,
      "metadata": {
        "colab": {
          "base_uri": "https://localhost:8080/"
        },
        "id": "DjMBcwaBUozg",
        "outputId": "8afe9f0b-e99c-46e1-cd10-da9ef4771205"
      },
      "outputs": [
        {
          "output_type": "stream",
          "name": "stdout",
          "text": [
            "Requirement already satisfied: youtube-transcript-api in /usr/local/lib/python3.11/dist-packages (1.0.1)\n",
            "Requirement already satisfied: pytube in /usr/local/lib/python3.11/dist-packages (15.0.0)\n",
            "Requirement already satisfied: defusedxml<0.8.0,>=0.7.1 in /usr/local/lib/python3.11/dist-packages (from youtube-transcript-api) (0.7.1)\n",
            "Requirement already satisfied: requests in /usr/local/lib/python3.11/dist-packages (from youtube-transcript-api) (2.32.3)\n",
            "Requirement already satisfied: charset-normalizer<4,>=2 in /usr/local/lib/python3.11/dist-packages (from requests->youtube-transcript-api) (3.4.1)\n",
            "Requirement already satisfied: idna<4,>=2.5 in /usr/local/lib/python3.11/dist-packages (from requests->youtube-transcript-api) (3.10)\n",
            "Requirement already satisfied: urllib3<3,>=1.21.1 in /usr/local/lib/python3.11/dist-packages (from requests->youtube-transcript-api) (2.3.0)\n",
            "Requirement already satisfied: certifi>=2017.4.17 in /usr/local/lib/python3.11/dist-packages (from requests->youtube-transcript-api) (2025.1.31)\n"
          ]
        }
      ],
      "source": [
        "!pip install youtube-transcript-api pytube"
      ]
    },
    {
      "cell_type": "code",
      "source": [
        "from youtube_transcript_api import YouTubeTranscriptApi\n",
        "\n",
        "def get_youtube_transcript(video_url):\n",
        "\n",
        "    \"\"\"Fetches the transcript of a YouTube video.\"\"\"\n",
        "\n",
        "    video_id = video_url.split(\"v=\")[1].split(\"&\")[0]  # Extract video ID\n",
        "\n",
        "    transcript = YouTubeTranscriptApi.get_transcript(video_id)\n",
        "\n",
        "    full_text = \" \".join([t[\"text\"] for t in transcript])\n",
        "\n",
        "    return full_text\n",
        "\n",
        "# Example Usage\n",
        "\n",
        "video_url = \"https://www.youtube.com/watch?v=unYDoA8QGH0&list=PLWEpztHwA4ZT2QlHC74oIz4MsawcvE-QX\"\n",
        "\n",
        "video_transcript = get_youtube_transcript(video_url)\n",
        "\n",
        "print(\"Transcript:\\n\", video_transcript[:500])\n"
      ],
      "metadata": {
        "colab": {
          "base_uri": "https://localhost:8080/"
        },
        "id": "T_kZKp5YUvrT",
        "outputId": "3288c606-7ea8-4af1-9ef1-6cef6109e197"
      },
      "execution_count": 17,
      "outputs": [
        {
          "output_type": "stream",
          "name": "stdout",
          "text": [
            "Transcript:\n",
            " hi guys today I'm going to introduce you what is machine learning uh these are my presentation content what is machine learning what are the different applications of machine learning different types of machine learning and how to build a machine learning system or model then various kinds of algorithms and later on in this series we are going to take a Hands-On you know case studies or doing programming for various kinds of up algorithms so what is machine learning so machine learning is nothin\n"
          ]
        }
      ]
    },
    {
      "cell_type": "code",
      "source": [
        "# Configure Gemini API\n",
        "\n",
        "import google.generativeai as genai\n",
        "\n",
        "from google.colab import userdata\n",
        "\n",
        "GOOGLE_API_KEY=userdata.get('GOOGLE_API_KEY')\n",
        "\n",
        "genai.configure(api_key=GOOGLE_API_KEY)"
      ],
      "metadata": {
        "id": "p5sh8wIUVL9v"
      },
      "execution_count": 18,
      "outputs": []
    },
    {
      "cell_type": "code",
      "source": [
        "import google.generativeai as genai\n",
        "from google.colab import userdata\n",
        "import time\n",
        "\n",
        "GOOGLE_API_KEY=userdata.get('GOOGLE_API_KEY')\n",
        "\n",
        "genai.configure(api_key=GOOGLE_API_KEY)\n",
        "\n",
        "def summarize_video(text):\n",
        "    \"\"\"Summarizes the YouTube video transcript using Gemini AI.\"\"\"\n",
        "\n",
        "    model = genai.GenerativeModel(\"gemini-1.5-flash\")\n",
        "\n",
        "    prompt = f\"Summarize the following YouTube video transcript:\\n\\n{text}\"\n",
        "\n",
        "    response = model.generate_content(prompt)\n",
        "\n",
        "    # Add a delay to avoid exceeding the API rate limit\n",
        "    time.sleep(2)  # Wait for 2 seconds before the next API call\n",
        "\n",
        "    return response.text\n",
        "\n",
        "def extract_video_insights(text):\n",
        "    \"\"\"Extracts key insights from the YouTube video transcript.\"\"\"\n",
        "    model = genai.GenerativeModel('gemini-1.5-flash')\n",
        "    prompt = f\"Extract the key takeaways and insights from this YouTube video:\\n\\n{text}\"\n",
        "    response = model.generate_content(prompt)\n",
        "    # Add a delay to avoid exceeding the API rate limit\n",
        "    time.sleep(2)  # Wait for 2 seconds before the next API call\n",
        "    return response.text"
      ],
      "metadata": {
        "id": "hc2laCJTWEcR"
      },
      "execution_count": 21,
      "outputs": []
    },
    {
      "cell_type": "code",
      "source": [
        "def extract_video_insights(text):\n",
        "    \"\"\"Extracts key insights from the YouTube video transcript.\"\"\"\n",
        "    model = genai.GenerativeModel('gemini-1.5-flash')\n",
        "    prompt = f\"Extract the key takeaways and insights from this YouTube video:\\n\\n{text}\"\n",
        "    response = model.generate_content(prompt)\n",
        "    return response.text\n",
        "\n",
        "insights = extract_video_insights(video_transcript)\n",
        "print(\"Key Insights:\\n\", insights)"
      ],
      "metadata": {
        "colab": {
          "base_uri": "https://localhost:8080/",
          "height": 905
        },
        "id": "nloSkf06WcsO",
        "outputId": "ed494083-83f2-442e-f92b-4a6410de76b9"
      },
      "execution_count": 20,
      "outputs": [
        {
          "output_type": "stream",
          "name": "stdout",
          "text": [
            "Key Insights:\n",
            " This YouTube video provides an introduction to machine learning. Here are the key takeaways and insights:\n",
            "\n",
            "**What is Machine Learning?**\n",
            "\n",
            "* **Definition:** Machine learning is a subfield of artificial intelligence that focuses on enabling computer systems to learn from data without explicit programming.  It involves building models from \"training data\" (past experience) to predict future outcomes.\n",
            "* **Core Concept:** Learning from data to make predictions or improve performance on a specific task.  The process involves applying algorithms to data to create a model that can then be used for prediction.\n",
            "* **Arthur Samuel's Definition:** A field of study that gives computers the ability to learn without being explicitly programmed.\n",
            "\n",
            "**Applications of Machine Learning:**\n",
            "\n",
            "The video highlights a broad range of applications, emphasizing that machine learning is used across many domains whenever data is available for analysis and prediction.  Specific examples include:\n",
            "\n",
            "* **Speech Recognition:**  Powering virtual assistants like Siri and Google Assistant.\n",
            "* **Web Search:** Improving search engine results using algorithms like Naive Bayes.\n",
            "* **Recommendation Systems:** Suggesting products or content to users.\n",
            "* **Computer Vision:**  Analyzing images and videos to identify objects and understand content.\n",
            "* **Information Retrieval:** Processing large volumes of documents to find relevant information (e.g., Google search).\n",
            "* **Fraud Detection:** Identifying fraudulent activities online.\n",
            "\n",
            "**Types of Machine Learning:**\n",
            "\n",
            "The video categorizes machine learning into three main types:\n",
            "\n",
            "* **Supervised Learning:** The training data includes labels or the desired outcome.  The model learns to map inputs to outputs.  This is further divided into:\n",
            "    * **Classification:** Predicting categorical outcomes (e.g., spam/not spam).\n",
            "    * **Regression:** Predicting continuous outcomes (e.g., house price).\n",
            "* **Unsupervised Learning:** The training data lacks labels.  The model aims to discover patterns and structure in the data.  Examples include clustering and dimensionality reduction.\n",
            "* **Reinforcement Learning:** An agent learns to interact with an environment by trial and error, receiving rewards or penalties for its actions.  This is often used in game playing and robotics.\n",
            "\n",
            "**Building a Machine Learning Model (Workflow):**\n",
            "\n",
            "The video outlines a typical workflow:\n",
            "\n",
            "1. **Data Preprocessing:** Cleaning, scaling, encoding, and selecting relevant features from the raw data.\n",
            "2. **Algorithm Selection:** Choosing an appropriate algorithm based on the type of problem (classification, regression, etc.) and data characteristics.\n",
            "3. **Model Training:** Applying the chosen algorithm to the training data to build a predictive model.\n",
            "4. **Model Evaluation:** Assessing the model's performance using appropriate metrics.\n",
            "\n",
            "**Key Terms:**\n",
            "\n",
            "The video emphasizes understanding key terminology, including:\n",
            "\n",
            "* **Features/Attributes:** The variables used to make predictions.\n",
            "* **Target Variable/Label:** The variable being predicted.\n",
            "* **Samples/Instances/Observations:** The rows of data.\n",
            "\n",
            "\n",
            "**Next Steps:**  The presenter indicates that future videos will cover practical implementation of various algorithms and building specific machine learning models (e.g., linear regression, classification models).\n",
            "\n"
          ]
        }
      ]
    },
    {
      "cell_type": "code",
      "source": [
        "def ask_question_about_video(text, question):\n",
        "\n",
        "\n",
        "\n",
        "    \"\"\"Answers user questions about the YouTube video content.\"\"\"\n",
        "\n",
        "\n",
        "\n",
        "    model = genai.GenerativeModel(\"gemini-1.5-flash\")\n",
        "\n",
        "\n",
        "\n",
        "    prompt = f\"The following is a YouTube video transcript:\\n\\n{text}\\n\\nAnswer this question based on the content:\\n{question}\"\n",
        "\n",
        "\n",
        "\n",
        "    response = model.generate_content(prompt)\n",
        "\n",
        "\n",
        "\n",
        "    return response.text\n",
        "\n",
        "\n",
        "\n",
        "question = \"What is the main topic discussed in the video?\"\n",
        "\n",
        "\n",
        "\n",
        "answer = ask_question_about_video(video_transcript, question)\n",
        "\n",
        "\n",
        "\n",
        "print(\"Answer:\\n\", answer)"
      ],
      "metadata": {
        "colab": {
          "base_uri": "https://localhost:8080/",
          "height": 89
        },
        "id": "xQKLvn67XCoV",
        "outputId": "cc461b2f-5e1b-4121-cc9d-6162fa0710c9"
      },
      "execution_count": 22,
      "outputs": [
        {
          "output_type": "stream",
          "name": "stdout",
          "text": [
            "Answer:\n",
            " The main topic of the YouTube video is an introduction to machine learning.  The video covers what machine learning is, its various applications, different types of machine learning (supervised, unsupervised, and reinforcement learning),  the process of building a machine learning model,  various algorithms used, and a preview of future hands-on case studies and programming examples.\n",
            "\n"
          ]
        }
      ]
    },
    {
      "cell_type": "code",
      "source": [
        "import google.generativeai as genai\n",
        "from google.colab import userdata\n",
        "import time\n",
        "\n",
        "GOOGLE_API_KEY=userdata.get('GOOGLE_API_KEY')\n",
        "\n",
        "genai.configure(api_key=GOOGLE_API_KEY)\n",
        "\n",
        "def summarize_video(text):\n",
        "    \"\"\"Summarizes the YouTube video transcript using Gemini AI.\"\"\"\n",
        "\n",
        "    model = genai.GenerativeModel(\"gemini-1.5-flash\")\n",
        "\n",
        "    prompt = f\"Summarize the following YouTube video transcript:\\n\\n{text}\"\n",
        "\n",
        "    response = model.generate_content(prompt)\n",
        "\n",
        "    # Add a delay to avoid exceeding the API rate limit\n",
        "    time.sleep(5)  # Increased wait time to 5 seconds\n",
        "\n",
        "    return response.text\n",
        "\n",
        "def extract_video_insights(text):\n",
        "    \"\"\"Extracts key insights from the YouTube video transcript.\"\"\"\n",
        "    model = genai.GenerativeModel('gemini-1.5-flash')\n",
        "    prompt = f\"Extract the key takeaways and insights from this YouTube video:\\n\\n{text}\"\n",
        "    response = model.generate_content(prompt)\n",
        "    # Add a delay to avoid exceeding the API rate limit\n",
        "    time.sleep(5)  # Increased wait time to 5 seconds\n",
        "    return response.text\n",
        "\n",
        "def ask_question_about_video(text, question):\n",
        "    \"\"\"Answers user questions about the YouTube video content.\"\"\"\n",
        "    model = genai.GenerativeModel(\"gemini-1.5-flash\")\n",
        "    prompt = f\"The following is a YouTube video transcript:\\n\\n{text}\\n\\nAnswer this question based on the content:\\n{question}\"\n",
        "    response = model.generate_content(prompt)\n",
        "    # Add a delay to avoid exceeding the API rate limit\n",
        "    time.sleep(5)  # Increased wait time to 5 seconds\n",
        "    return response.text\n",
        "\n",
        "def analyze_sentiment(text):\n",
        "    \"\"\"Performs sentiment analysis on the YouTube video transcript.\"\"\"\n",
        "    model = genai.GenerativeModel(\"gemini-1.5-flash\")\n",
        "    prompt = f\"Analyze the sentiment of this YouTube video transcript. Is it positive, negative, or neutral?\\n\\n{text}\"\n",
        "    response = model.generate_content(prompt)\n",
        "    # Add a delay to avoid exceeding the API rate limit\n",
        "    time.sleep(5)  # Increased wait time to 5 seconds\n",
        "    return response.text"
      ],
      "metadata": {
        "id": "Apt0cuZlX_X2"
      },
      "execution_count": 24,
      "outputs": []
    },
    {
      "cell_type": "code",
      "source": [],
      "metadata": {
        "id": "nzwH1tduYqhM"
      },
      "execution_count": null,
      "outputs": []
    }
  ]
}