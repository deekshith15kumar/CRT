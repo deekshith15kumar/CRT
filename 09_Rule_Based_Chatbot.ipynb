{
  "nbformat": 4,
  "nbformat_minor": 0,
  "metadata": {
    "colab": {
      "provenance": []
    },
    "kernelspec": {
      "name": "python3",
      "display_name": "Python 3"
    },
    "language_info": {
      "name": "python"
    }
  },
  "cells": [
    {
      "cell_type": "code",
      "execution_count": 2,
      "metadata": {
        "id": "QxoiZLL-dCyr"
      },
      "outputs": [],
      "source": [
        "import nltk\n",
        "import re\n",
        "\n",
        "from nltk.chat.util import Chat, reflections"
      ]
    },
    {
      "cell_type": "code",
      "source": [
        "# Download NLTK data\n",
        "\n",
        "nltk.download('punkt')\n",
        "\n",
        "nltk.download('averaged_perceptron_tagger')"
      ],
      "metadata": {
        "colab": {
          "base_uri": "https://localhost:8080/"
        },
        "id": "2p_VPDUidRv5",
        "outputId": "cf6be20c-27d3-4fa1-fd59-8bc113d10a42"
      },
      "execution_count": 3,
      "outputs": [
        {
          "output_type": "stream",
          "name": "stderr",
          "text": [
            "[nltk_data] Downloading package punkt to /root/nltk_data...\n",
            "[nltk_data]   Unzipping tokenizers/punkt.zip.\n",
            "[nltk_data] Downloading package averaged_perceptron_tagger to\n",
            "[nltk_data]     /root/nltk_data...\n",
            "[nltk_data]   Unzipping taggers/averaged_perceptron_tagger.zip.\n"
          ]
        },
        {
          "output_type": "execute_result",
          "data": {
            "text/plain": [
              "True"
            ]
          },
          "metadata": {},
          "execution_count": 3
        }
      ]
    },
    {
      "cell_type": "code",
      "source": [
        "# Define patterns and responses\n",
        "\n",
        "pairs = [\n",
        "\n",
        "    [r\"my name is (.*)\", [\"Hello %1, how can I assist you today?\",]],\n",
        "\n",
        "    [r\"hi|hey|hello\", [\"Hello, how can I help you?\", \"Hey there! What can I do for you?\",\n",
        "\n",
        "                       \"Hi! How can I assist you today?\"]],\n",
        "\n",
        "    [r\"what is your name?\", [\"I am a chatbot created to assist you. You can call me Chatbot.\",]],\n",
        "\n",
        "    [r\"how are you?\", [\"I'm a bot, so I don't have feelings, but I'm here to help you!\",]],\n",
        "\n",
        "    [r\"can you help me with (.*)\", [\"Sure, I can help you with %1. Please provide more details.\",]],\n",
        "\n",
        "    [r\"sorry (.*)\", [\"It's okay. How can I assist you?\",]],\n",
        "\n",
        "    [r\"thank you|thanks\", [\"You're welcome!\", \"No problem!\", \"Happy to help!\"]],\n",
        "\n",
        "    [r\"quit\", [\"Bye! Have a great day!\", \"Goodbye!\"]],\n",
        "\n",
        "    [r\"best place (.*)\", [\"Hyderabad\",\"Banglore\",\"Vizag\", \"Mumbai\"]],\n",
        "\n",
        "    [r\"golden|temple (.*)\", [\"It is in amritsar\"]],\n",
        "\n",
        "    [r\"(.*)\", [\"I'm sorry, I don't understand that. Can you rephrase?\",\n",
        "\n",
        "               \"Could you please elaborate on that?\"]]]"
      ],
      "metadata": {
        "id": "PPaJYfw0dfL2"
      },
      "execution_count": 4,
      "outputs": []
    },
    {
      "cell_type": "code",
      "source": [
        "class RBChatbot:\n",
        "\n",
        "    def __init__(self, pairs): # Changed _init_ to __init__\n",
        "\n",
        "        self.chat = Chat(pairs, reflections)\n",
        "\n",
        "    def respond(self, user_input):\n",
        "\n",
        "        return self.chat.respond(user_input)\n",
        "\n",
        "\n",
        "\n",
        "# Initialize the chatbot\n",
        "\n",
        "chatbot = RBChatbot(pairs)\n"
      ],
      "metadata": {
        "id": "g_3WSAwjLTJr"
      },
      "execution_count": 10,
      "outputs": []
    },
    {
      "cell_type": "code",
      "source": [
        "# Function to chat with the bot\n",
        "def chat_with_bot():\n",
        "    print(\"Hi, I'm your chatbot. Type 'quit' to exit.\")\n",
        "    while True:\n",
        "        user_input = input(\"You: \")\n",
        "        if user_input.lower() == 'quit':\n",
        "            print(\"Chatbot: Bye! Have a great day!\")\n",
        "            break\n",
        "        response = chatbot.respond(user_input)\n",
        "        print(f\"Chatbot: {response}\")\n",
        "chat_with_bot()"
      ],
      "metadata": {
        "colab": {
          "base_uri": "https://localhost:8080/"
        },
        "id": "zQVBOgUMLkcv",
        "outputId": "8b41bbf4-9756-4d4d-cefe-d92113ea82fd"
      },
      "execution_count": 12,
      "outputs": [
        {
          "output_type": "stream",
          "name": "stdout",
          "text": [
            "Hi, I'm your chatbot. Type 'quit' to exit.\n",
            "You: hi\n",
            "Chatbot: Hello, how can I help you?\n",
            "You: hello\n",
            "Chatbot: Hello, how can I help you?\n",
            "You: best place to visit\n",
            "Chatbot: Banglore\n",
            "You: best place to visit\n",
            "Chatbot: Vizag\n",
            "You: best place to visit\n",
            "Chatbot: Mumbai\n",
            "You: best place to visit\n",
            "Chatbot: Hyderabad\n",
            "You: best place to visit\n",
            "Chatbot: Banglore\n",
            "You: quit\n",
            "Chatbot: Bye! Have a great day!\n"
          ]
        }
      ]
    },
    {
      "cell_type": "code",
      "source": [],
      "metadata": {
        "id": "GrRrUhydL4xY"
      },
      "execution_count": null,
      "outputs": []
    }
  ]
}