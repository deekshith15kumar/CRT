{
  "nbformat": 4,
  "nbformat_minor": 0,
  "metadata": {
    "colab": {
      "provenance": []
    },
    "kernelspec": {
      "name": "python3",
      "display_name": "Python 3"
    },
    "language_info": {
      "name": "python"
    }
  },
  "cells": [
    {
      "cell_type": "code",
      "execution_count": 1,
      "metadata": {
        "colab": {
          "base_uri": "https://localhost:8080/"
        },
        "id": "ryeWZr__UGHP",
        "outputId": "4f6edeb3-876c-4a61-8643-9f900d18246e"
      },
      "outputs": [
        {
          "output_type": "stream",
          "name": "stdout",
          "text": [
            "Requirement already satisfied: gTTs in /usr/local/lib/python3.11/dist-packages (2.5.4)\n",
            "Requirement already satisfied: requests<3,>=2.27 in /usr/local/lib/python3.11/dist-packages (from gTTs) (2.32.3)\n",
            "Requirement already satisfied: click<8.2,>=7.1 in /usr/local/lib/python3.11/dist-packages (from gTTs) (8.1.8)\n",
            "Requirement already satisfied: charset-normalizer<4,>=2 in /usr/local/lib/python3.11/dist-packages (from requests<3,>=2.27->gTTs) (3.4.1)\n",
            "Requirement already satisfied: idna<4,>=2.5 in /usr/local/lib/python3.11/dist-packages (from requests<3,>=2.27->gTTs) (3.10)\n",
            "Requirement already satisfied: urllib3<3,>=1.21.1 in /usr/local/lib/python3.11/dist-packages (from requests<3,>=2.27->gTTs) (2.3.0)\n",
            "Requirement already satisfied: certifi>=2017.4.17 in /usr/local/lib/python3.11/dist-packages (from requests<3,>=2.27->gTTs) (2025.1.31)\n"
          ]
        }
      ],
      "source": [
        "!pip install gTTs"
      ]
    },
    {
      "cell_type": "code",
      "source": [
        "from gtts import gTTS"
      ],
      "metadata": {
        "id": "vuK9BcESUJV6"
      },
      "execution_count": 2,
      "outputs": []
    },
    {
      "cell_type": "code",
      "source": [
        "\n",
        "convert = gTTS(text='I like this NLP. How about dude!', lang=\"en\", slow=False)\n",
        "convert.save(\"audio.mp3\")"
      ],
      "metadata": {
        "id": "DiAgKlLuUPoH"
      },
      "execution_count": 3,
      "outputs": []
    },
    {
      "cell_type": "code",
      "source": [
        "!pip3 install pyttsx3"
      ],
      "metadata": {
        "colab": {
          "base_uri": "https://localhost:8080/"
        },
        "id": "VfuTGmF9USPv",
        "outputId": "2ccc90b4-8013-4ca0-80b2-697e22174197"
      },
      "execution_count": 4,
      "outputs": [
        {
          "output_type": "stream",
          "name": "stdout",
          "text": [
            "Requirement already satisfied: pyttsx3 in /usr/local/lib/python3.11/dist-packages (2.98)\n"
          ]
        }
      ]
    },
    {
      "cell_type": "code",
      "source": [
        "\n",
        "import pyttsx3, time\n",
        "engine = pyttsx3.init()\n",
        "engine.say(\"Hi, I am text to speach\")\n",
        "engine.runAndWait()"
      ],
      "metadata": {
        "id": "b-s27e0rUZgd"
      },
      "execution_count": 5,
      "outputs": []
    },
    {
      "cell_type": "code",
      "source": [
        "!sudo apt install espeak-ng"
      ],
      "metadata": {
        "colab": {
          "base_uri": "https://localhost:8080/"
        },
        "id": "G4J5WC3zVfiY",
        "outputId": "5c0d3f86-ff06-4a66-93b5-d99ab1ed4e7d"
      },
      "execution_count": 6,
      "outputs": [
        {
          "output_type": "stream",
          "name": "stdout",
          "text": [
            "Reading package lists... Done\n",
            "Building dependency tree... Done\n",
            "Reading state information... Done\n",
            "espeak-ng is already the newest version (1.50+dfsg-10ubuntu0.1).\n",
            "0 upgraded, 0 newly installed, 0 to remove and 22 not upgraded.\n"
          ]
        }
      ]
    },
    {
      "cell_type": "code",
      "source": [
        "text=['This is introduction to NLP','It is likely to be useful, to people ',\\\n",
        "\n",
        "      'Machine learning is the new electrcity','There would be less hype around AI and more action going forward',\\\n",
        "\n",
        "      'python is the best tool!','R is good langauage','I like this book',\\\n",
        "\n",
        "      'I want more books like this']"
      ],
      "metadata": {
        "id": "UsgtEcA-VLKV"
      },
      "execution_count": 7,
      "outputs": []
    },
    {
      "cell_type": "code",
      "source": [
        "engine = pyttsx3.init()\n",
        "\n",
        "engine.say(text)\n",
        "\n",
        "engine.runAndWait()"
      ],
      "metadata": {
        "id": "b1RpRKyoW0ma"
      },
      "execution_count": 8,
      "outputs": []
    },
    {
      "cell_type": "code",
      "source": [
        "import pyttsx3\n",
        "\n",
        "engine=pyttsx3.init()\n"
      ],
      "metadata": {
        "id": "Gz3VprVWW4CN"
      },
      "execution_count": 9,
      "outputs": []
    },
    {
      "cell_type": "code",
      "source": [
        "\n",
        "import pyttsx3\n",
        "\n",
        "engine = pyttsx3.init() # object creation\n",
        "\n",
        "\n",
        "\n",
        "\"\"\" RATE\"\"\"\n",
        "\n",
        "rate = engine.getProperty('rate')   # getting details of current speaking rate\n",
        "\n",
        "print (rate)                        #printing current voice rate\n",
        "\n",
        "engine.setProperty('rate', 150)     # setting up new voice rate\n",
        "\n",
        "\n",
        "\n",
        "\n",
        "\n",
        "\"\"\"VOLUME\"\"\"\n",
        "\n",
        "volume = engine.getProperty('volume')   #getting to know current volume level (min=0 and max=1)\n",
        "\n",
        "print (volume)                          #printing current volume level\n",
        "\n",
        "engine.setProperty('volume',1.0)    # setting up volume level  between 0 and 1\n",
        "\n",
        "\n",
        "\n",
        "\"\"\"VOICE\"\"\"\n",
        "\n",
        "voices = engine.getProperty('voices')       #getting details of current voice\n",
        "\n",
        "#engine.setProperty('voice', voices[0].id)  #changing index, changes voices. o for male\n",
        "\n",
        "engine.setProperty('voice', voices[1].id)   #changing index, changes voices. 1 for female\n",
        "\n",
        "\n",
        "\n",
        "engine.say(\"Hello World!\")\n",
        "\n",
        "engine.say('My current speaking rate is ' + str(rate))\n",
        "\n",
        "engine.say('My current speaking volume is ' + str(volume))\n",
        "\n",
        "engine.runAndWait()\n",
        "\n",
        "engine.stop()"
      ],
      "metadata": {
        "colab": {
          "base_uri": "https://localhost:8080/"
        },
        "id": "_YJsklOMW_hG",
        "outputId": "2bdb6a9c-bcd8-4040-dc5b-47f22e277630"
      },
      "execution_count": 10,
      "outputs": [
        {
          "output_type": "stream",
          "name": "stdout",
          "text": [
            "200\n",
            "1.0\n"
          ]
        }
      ]
    },
    {
      "cell_type": "code",
      "source": [
        "!pip install goslate"
      ],
      "metadata": {
        "colab": {
          "base_uri": "https://localhost:8080/"
        },
        "id": "Giy5BJfMY3-2",
        "outputId": "fbcbbba6-e638-49e3-9719-ed148cbc7339"
      },
      "execution_count": 11,
      "outputs": [
        {
          "output_type": "stream",
          "name": "stdout",
          "text": [
            "Requirement already satisfied: goslate in /usr/local/lib/python3.11/dist-packages (1.5.4)\n",
            "Requirement already satisfied: futures in /usr/local/lib/python3.11/dist-packages (from goslate) (3.0.5)\n"
          ]
        }
      ]
    },
    {
      "cell_type": "code",
      "source": [
        "!pip install translate"
      ],
      "metadata": {
        "colab": {
          "base_uri": "https://localhost:8080/"
        },
        "id": "nA_LBpRQZgpG",
        "outputId": "210416c1-8ed2-4c9d-a46f-8e98d73a33d1"
      },
      "execution_count": 12,
      "outputs": [
        {
          "output_type": "stream",
          "name": "stdout",
          "text": [
            "Collecting translate\n",
            "  Downloading translate-3.6.1-py2.py3-none-any.whl.metadata (7.7 kB)\n",
            "Requirement already satisfied: click in /usr/local/lib/python3.11/dist-packages (from translate) (8.1.8)\n",
            "Requirement already satisfied: lxml in /usr/local/lib/python3.11/dist-packages (from translate) (5.3.1)\n",
            "Requirement already satisfied: requests in /usr/local/lib/python3.11/dist-packages (from translate) (2.32.3)\n",
            "Collecting libretranslatepy==2.1.1 (from translate)\n",
            "  Downloading libretranslatepy-2.1.1-py3-none-any.whl.metadata (233 bytes)\n",
            "Requirement already satisfied: charset-normalizer<4,>=2 in /usr/local/lib/python3.11/dist-packages (from requests->translate) (3.4.1)\n",
            "Requirement already satisfied: idna<4,>=2.5 in /usr/local/lib/python3.11/dist-packages (from requests->translate) (3.10)\n",
            "Requirement already satisfied: urllib3<3,>=1.21.1 in /usr/local/lib/python3.11/dist-packages (from requests->translate) (2.3.0)\n",
            "Requirement already satisfied: certifi>=2017.4.17 in /usr/local/lib/python3.11/dist-packages (from requests->translate) (2025.1.31)\n",
            "Downloading translate-3.6.1-py2.py3-none-any.whl (12 kB)\n",
            "Downloading libretranslatepy-2.1.1-py3-none-any.whl (3.2 kB)\n",
            "Installing collected packages: libretranslatepy, translate\n",
            "Successfully installed libretranslatepy-2.1.1 translate-3.6.1\n"
          ]
        }
      ]
    },
    {
      "cell_type": "code",
      "source": [
        "text = \"Bonjour le monde\""
      ],
      "metadata": {
        "id": "_YcoHi_AZ8R6"
      },
      "execution_count": 13,
      "outputs": []
    },
    {
      "cell_type": "code",
      "source": [
        "import goslate"
      ],
      "metadata": {
        "id": "sVPhmJy4aAip"
      },
      "execution_count": 14,
      "outputs": []
    },
    {
      "cell_type": "code",
      "source": [
        "gs = goslate.Goslate()\n",
        "translatedText = gs.translate(text,'te')\n",
        "print(translatedText)"
      ],
      "metadata": {
        "colab": {
          "base_uri": "https://localhost:8080/"
        },
        "id": "Icd-qz4NaCPw",
        "outputId": "357fc906-4dc5-4703-882d-3b4418b7758d"
      },
      "execution_count": 16,
      "outputs": [
        {
          "output_type": "stream",
          "name": "stdout",
          "text": [
            "హలో వరల్డ్\n"
          ]
        }
      ]
    },
    {
      "cell_type": "code",
      "source": [
        "gs = goslate.Goslate()\n",
        "translatedText = gs.translate(text,'en')\n",
        "print(translatedText)"
      ],
      "metadata": {
        "colab": {
          "base_uri": "https://localhost:8080/"
        },
        "id": "Au8VZshSaD1K",
        "outputId": "aad22323-ad9b-45d9-8b06-283a77a5295b"
      },
      "execution_count": 17,
      "outputs": [
        {
          "output_type": "stream",
          "name": "stdout",
          "text": [
            "Hello world\n"
          ]
        }
      ]
    },
    {
      "cell_type": "code",
      "source": [
        "gs = goslate.Goslate()\n",
        "translatedText = gs.translate(text,'hi')\n",
        "print(translatedText)"
      ],
      "metadata": {
        "colab": {
          "base_uri": "https://localhost:8080/"
        },
        "id": "rShqiLEdaKOJ",
        "outputId": "4a011947-968c-4771-c7b5-2efaf42f6b90"
      },
      "execution_count": 19,
      "outputs": [
        {
          "output_type": "stream",
          "name": "stdout",
          "text": [
            "हैलो वर्ल्ड\n"
          ]
        }
      ]
    },
    {
      "cell_type": "code",
      "source": [
        "\n",
        "from translate import Translator\n",
        "translator= Translator(to_lang=\"ar\")\n",
        "translation = translator.translate(\"How are you?\")\n",
        "translation"
      ],
      "metadata": {
        "colab": {
          "base_uri": "https://localhost:8080/",
          "height": 35
        },
        "id": "al3c9ojmaeCQ",
        "outputId": "0577c45f-a9d0-4780-9285-126f38a447d5"
      },
      "execution_count": 24,
      "outputs": [
        {
          "output_type": "execute_result",
          "data": {
            "text/plain": [
              "'كيف حالك؟'"
            ],
            "application/vnd.google.colaboratory.intrinsic+json": {
              "type": "string"
            }
          },
          "metadata": {},
          "execution_count": 24
        }
      ]
    },
    {
      "cell_type": "code",
      "source": [
        "\n",
        "from translate import Translator\n",
        "translator= Translator(to_lang=\"mr\")\n",
        "translation = translator.translate(\"How are you?\")\n",
        "translation"
      ],
      "metadata": {
        "colab": {
          "base_uri": "https://localhost:8080/",
          "height": 35
        },
        "id": "J9T3pECsai9x",
        "outputId": "74c51860-01e9-45a9-90ae-03628c66d104"
      },
      "execution_count": 25,
      "outputs": [
        {
          "output_type": "execute_result",
          "data": {
            "text/plain": [
              "'कशी आहेस?'"
            ],
            "application/vnd.google.colaboratory.intrinsic+json": {
              "type": "string"
            }
          },
          "metadata": {},
          "execution_count": 25
        }
      ]
    },
    {
      "cell_type": "code",
      "source": [
        "\n",
        "from translate import Translator\n",
        "translator= Translator(to_lang=\"tn\")\n",
        "translation = translator.translate(\"How are you?\")\n",
        "translation"
      ],
      "metadata": {
        "colab": {
          "base_uri": "https://localhost:8080/",
          "height": 35
        },
        "id": "BhJepf2GayGr",
        "outputId": "c7d3206d-d1bd-4252-ba45-1b212bd40f4e"
      },
      "execution_count": 26,
      "outputs": [
        {
          "output_type": "execute_result",
          "data": {
            "text/plain": [
              "'O tsogile jang?'"
            ],
            "application/vnd.google.colaboratory.intrinsic+json": {
              "type": "string"
            }
          },
          "metadata": {},
          "execution_count": 26
        }
      ]
    },
    {
      "cell_type": "code",
      "source": [
        "pip install speechRecognition"
      ],
      "metadata": {
        "colab": {
          "base_uri": "https://localhost:8080/"
        },
        "id": "eYEmLgDkbf2f",
        "outputId": "eef93698-db0c-4fea-e9cb-32745263daa5"
      },
      "execution_count": 27,
      "outputs": [
        {
          "output_type": "stream",
          "name": "stdout",
          "text": [
            "Collecting speechRecognition\n",
            "  Downloading SpeechRecognition-3.14.1-py3-none-any.whl.metadata (31 kB)\n",
            "Requirement already satisfied: typing-extensions in /usr/local/lib/python3.11/dist-packages (from speechRecognition) (4.12.2)\n",
            "Downloading SpeechRecognition-3.14.1-py3-none-any.whl (32.9 MB)\n",
            "\u001b[2K   \u001b[90m━━━━━━━━━━━━━━━━━━━━━━━━━━━━━━━━━━━━━━━━\u001b[0m \u001b[32m32.9/32.9 MB\u001b[0m \u001b[31m22.6 MB/s\u001b[0m eta \u001b[36m0:00:00\u001b[0m\n",
            "\u001b[?25hInstalling collected packages: speechRecognition\n",
            "Successfully installed speechRecognition-3.14.1\n"
          ]
        }
      ]
    },
    {
      "cell_type": "code",
      "source": [
        "!pip install PyAudio"
      ],
      "metadata": {
        "colab": {
          "base_uri": "https://localhost:8080/"
        },
        "id": "BAQFeq5mdET3",
        "outputId": "c1c508b1-a4e7-42eb-ccc9-9691b7f54a28"
      },
      "execution_count": 28,
      "outputs": [
        {
          "output_type": "stream",
          "name": "stdout",
          "text": [
            "Collecting PyAudio\n",
            "  Downloading PyAudio-0.2.14.tar.gz (47 kB)\n",
            "\u001b[?25l     \u001b[90m━━━━━━━━━━━━━━━━━━━━━━━━━━━━━━━━━━━━━━━━\u001b[0m \u001b[32m0.0/47.1 kB\u001b[0m \u001b[31m?\u001b[0m eta \u001b[36m-:--:--\u001b[0m\r\u001b[2K     \u001b[90m━━━━━━━━━━━━━━━━━━━━━━━━━━━━━━━━━━━━━━━━\u001b[0m \u001b[32m47.1/47.1 kB\u001b[0m \u001b[31m1.9 MB/s\u001b[0m eta \u001b[36m0:00:00\u001b[0m\n",
            "\u001b[?25h  Installing build dependencies ... \u001b[?25l\u001b[?25hdone\n",
            "  Getting requirements to build wheel ... \u001b[?25l\u001b[?25hdone\n",
            "  Preparing metadata (pyproject.toml) ... \u001b[?25l\u001b[?25hdone\n",
            "Building wheels for collected packages: PyAudio\n",
            "  \u001b[1;31merror\u001b[0m: \u001b[1msubprocess-exited-with-error\u001b[0m\n",
            "  \n",
            "  \u001b[31m×\u001b[0m \u001b[32mBuilding wheel for PyAudio \u001b[0m\u001b[1;32m(\u001b[0m\u001b[32mpyproject.toml\u001b[0m\u001b[1;32m)\u001b[0m did not run successfully.\n",
            "  \u001b[31m│\u001b[0m exit code: \u001b[1;36m1\u001b[0m\n",
            "  \u001b[31m╰─>\u001b[0m See above for output.\n",
            "  \n",
            "  \u001b[1;35mnote\u001b[0m: This error originates from a subprocess, and is likely not a problem with pip.\n",
            "  Building wheel for PyAudio (pyproject.toml) ... \u001b[?25l\u001b[?25herror\n",
            "\u001b[31m  ERROR: Failed building wheel for PyAudio\u001b[0m\u001b[31m\n",
            "\u001b[0mFailed to build PyAudio\n",
            "\u001b[31mERROR: ERROR: Failed to build installable wheels for some pyproject.toml based projects (PyAudio)\u001b[0m\u001b[31m\n",
            "\u001b[0m"
          ]
        }
      ]
    },
    {
      "cell_type": "code",
      "source": [
        "import speech_recognition as sr"
      ],
      "metadata": {
        "id": "88YprjySdgJl"
      },
      "execution_count": 29,
      "outputs": []
    },
    {
      "cell_type": "code",
      "source": [],
      "metadata": {
        "id": "TZm-V0wpdrlX"
      },
      "execution_count": null,
      "outputs": []
    }
  ]
}