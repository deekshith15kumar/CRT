{
  "nbformat": 4,
  "nbformat_minor": 0,
  "metadata": {
    "colab": {
      "provenance": []
    },
    "kernelspec": {
      "name": "python3",
      "display_name": "Python 3"
    },
    "language_info": {
      "name": "python"
    }
  },
  "cells": [
    {
      "cell_type": "code",
      "execution_count": 4,
      "metadata": {
        "id": "7zFEPNItTtCL"
      },
      "outputs": [],
      "source": [
        "import os\n",
        "\n",
        "import atexit\n",
        "\n",
        "import shutil\n",
        "\n",
        "from transformers import BlenderbotTokenizer, BlenderbotForConditionalGeneration\n",
        "\n",
        "# Step 1: Load the pre-trained BlenderBot model and tokenizer\n",
        "\n",
        "model_name = \"facebook/blenderbot-1B-distill\"\n",
        "\n",
        "tokenizer = BlenderbotTokenizer.from_pretrained(model_name)\n",
        "\n",
        "model = BlenderbotForConditionalGeneration.from_pretrained(model_name)"
      ]
    },
    {
      "cell_type": "code",
      "source": [
        "# Step 2: Define a function to interact with the chatbot\n",
        "\n",
        "def interact_with_chatbot(user_input, conversation_history):\n",
        "\n",
        "    # Step 2.1: Add user input to the conversation history\n",
        "\n",
        "    conversation_history.append(f\"User: {user_input}\")\n",
        "\n",
        "    # Step 2.2: Prepare the input text for the model\n",
        "\n",
        "    conversation_text = \" \".join(conversation_history[-5:])  # Use only the last 5 exchanges to keep context manageable\n",
        "\n",
        "    # Step 2.3: Generate a response using the chatbot pipeline\n",
        "\n",
        "    inputs = tokenizer(conversation_text, return_tensors=\"pt\", truncation=True)\n",
        "\n",
        "    response_ids = model.generate(**inputs, max_length=1000, pad_token_id=tokenizer.eos_token_id)\n",
        "\n",
        "    response_text = tokenizer.decode(response_ids[0], skip_special_tokens=True)\n",
        "\n",
        "    # Step 2.4: Add the generated response to the conversation history\n",
        "\n",
        "    conversation_history.append(f\"Chatbot: {response_text}\")"
      ],
      "metadata": {
        "id": "b0cZfp8XVcC3"
      },
      "execution_count": 5,
      "outputs": []
    },
    {
      "cell_type": "code",
      "source": [
        "# Step 3: Define a function to delete the model files from the cache directory\n",
        "\n",
        "def delete_model_files():\n",
        "\n",
        "    cache_dir = os.path.expanduser(\"~/.cache/huggingface/hub/models--facebook--blenderbot-1B-distill\")\n",
        "\n",
        "    if os.path.exists(cache_dir):\n",
        "\n",
        "        user_input = input(\"Do you want to delete the model files from the cache directory? (y/n): \")\n",
        "\n",
        "        if user_input.lower() == 'y':\n",
        "\n",
        "            shutil.rmtree(cache_dir)\n",
        "\n",
        "            print(f\"Deleted model files from cache directory: {cache_dir}\")\n",
        "\n",
        "        else:\n",
        "\n",
        "            print(\"Model files not deleted from cache directory.\")\n",
        "\n",
        "    else:\n",
        "\n",
        "        print(f\"Model files not found in cache directory: {cache_dir}\")"
      ],
      "metadata": {
        "id": "ga3qctirV1ie"
      },
      "execution_count": 9,
      "outputs": []
    },
    {
      "cell_type": "code",
      "source": [
        "#step 4:Register the delete model_files function to be called on program exit\n",
        "atexit.register(delete_model_files)"
      ],
      "metadata": {
        "colab": {
          "base_uri": "https://localhost:8080/",
          "height": 104
        },
        "id": "qwXP6f_uVdE2",
        "outputId": "d04baaa0-1687-4d38-fff7-58db7077433a"
      },
      "execution_count": 10,
      "outputs": [
        {
          "output_type": "execute_result",
          "data": {
            "text/plain": [
              "<function __main__.delete_model_files()>"
            ],
            "text/html": [
              "<div style=\"max-width:800px; border: 1px solid var(--colab-border-color);\"><style>\n",
              "      pre.function-repr-contents {\n",
              "        overflow-x: auto;\n",
              "        padding: 8px 12px;\n",
              "        max-height: 500px;\n",
              "      }\n",
              "\n",
              "      pre.function-repr-contents.function-repr-contents-collapsed {\n",
              "        cursor: pointer;\n",
              "        max-height: 100px;\n",
              "      }\n",
              "    </style>\n",
              "    <pre style=\"white-space: initial; background:\n",
              "         var(--colab-secondary-surface-color); padding: 8px 12px;\n",
              "         border-bottom: 1px solid var(--colab-border-color);\"><b>delete_model_files</b><br/>def delete_model_files()</pre><pre class=\"function-repr-contents function-repr-contents-collapsed\" style=\"\"><a class=\"filepath\" style=\"display:none\" href=\"#\">/content/&lt;ipython-input-9-baa2b66139a5&gt;</a>&lt;no docstring&gt;</pre></div>"
            ]
          },
          "metadata": {},
          "execution_count": 10
        }
      ]
    },
    {
      "cell_type": "code",
      "source": [
        "# Step 5: Start the conversation loop\n",
        "\n",
        "print(\"Welcome to the Indian Tourism Chatbot!\")\n",
        "\n",
        "print(\"Type 'quit' to end the conversation.\\n\")"
      ],
      "metadata": {
        "colab": {
          "base_uri": "https://localhost:8080/"
        },
        "id": "uvtynwaaX55d",
        "outputId": "582b1a34-99c8-4a92-82b7-3376ec9dfcd4"
      },
      "execution_count": 11,
      "outputs": [
        {
          "output_type": "stream",
          "name": "stdout",
          "text": [
            "Welcome to the Indian Tourism Chatbot!\n",
            "Type 'quit' to end the conversation.\n",
            "\n"
          ]
        }
      ]
    },
    {
      "cell_type": "code",
      "source": [
        "conversation_history = []\n",
        "\n",
        "while True:\n",
        "\n",
        "    # Step 5.1: Get user input\n",
        "\n",
        "    user_input = input(\"User: \")\n",
        "\n",
        "    # Step 5.2: Check if the user wants to quit\n",
        "\n",
        "    if user_input.lower() == 'quit':\n",
        "\n",
        "        print(\"Thank you for using the Indian Tourism Chatbot. Goodbye!\")\n",
        "\n",
        "        break\n",
        "\n",
        "    # Step 5.3: Generate and print the chatbot's response\n",
        "\n",
        "    response = interact_with_chatbot(user_input, conversation_history)\n",
        "\n",
        "    print(f\"Chatbot: {response}\")"
      ],
      "metadata": {
        "colab": {
          "base_uri": "https://localhost:8080/"
        },
        "id": "IrQG8tdcYdlq",
        "outputId": "e0f1fc9e-b4cc-4850-9cc9-0a5b2649d7cf"
      },
      "execution_count": 17,
      "outputs": [
        {
          "output_type": "stream",
          "name": "stdout",
          "text": [
            "User: how are you today?\n",
            "Chatbot: None\n",
            "User: quit\n",
            "Thank you for using the Indian Tourism Chatbot. Goodbye!\n"
          ]
        }
      ]
    },
    {
      "cell_type": "code",
      "source": [],
      "metadata": {
        "id": "nVXzc8hHa-up"
      },
      "execution_count": null,
      "outputs": []
    }
  ]
}